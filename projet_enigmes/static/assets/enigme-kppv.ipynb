{
 "cells": [
  {
   "cell_type": "markdown",
   "metadata": {},
   "source": [
    "# Aide pour calculer une distance avec Python\n",
    "---"
   ]
  },
  {
   "cell_type": "markdown",
   "metadata": {},
   "source": [
    "Pour ne pas avoir à faire tous les calculs à la main, on a défini ci-dessous une fonction `distance` prenant en paramètres les coordonnées `xA`, `yA`, `xB`, `yB` de deux points et renvoyant la distance (euclidienne) entre ces deux points.\n",
    "\n",
    "**Pensez à exécuter la cellule ci-dessous pour pouvoir utiliser cette fonction ensuite !**"
   ]
  },
  {
   "cell_type": "code",
   "execution_count": null,
   "metadata": {
    "trusted": false
   },
   "outputs": [],
   "source": [
    "from math import sqrt  # on importe la fonction sqrt du module math\n",
    "\n",
    "def distance(xA, yA, xB, yB):\n",
    "    return sqrt((xB-xA)**2 + (yB-yA)**2)"
   ]
  },
  {
   "cell_type": "markdown",
   "metadata": {},
   "source": [
    "On peut utiliser cette fonction comme ci-dessous pour connaître la distance entre deux points :"
   ]
  },
  {
   "cell_type": "code",
   "execution_count": null,
   "metadata": {
    "trusted": false
   },
   "outputs": [],
   "source": [
    "# exécutez cette cellule pour utiliser la fonction\n",
    "\n",
    "distance(1, 1, 3.5, 4)"
   ]
  },
  {
   "cell_type": "markdown",
   "metadata": {},
   "source": [
    "Par exemple, on peut retrouver les distances (de l'exemple donné dans l'énigme) entre le point $N(3,5 ; 4)$ et tous les autres points donnés ci-dessous \n",
    "\n",
    "![les points](data:image/png;base64,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)\n",
    "\n",
    "en appelant la fonction comme ci-dessous (il faut exécuter les cellules) :"
   ]
  },
  {
   "cell_type": "code",
   "execution_count": null,
   "metadata": {
    "trusted": false
   },
   "outputs": [],
   "source": [
    "distance(1, 1, 3.5, 4)  # distance(A, N)"
   ]
  },
  {
   "cell_type": "code",
   "execution_count": null,
   "metadata": {
    "trusted": false
   },
   "outputs": [],
   "source": [
    "distance(2, 2, 3.5, 4)  # distance(B, N)"
   ]
  },
  {
   "cell_type": "code",
   "execution_count": null,
   "metadata": {
    "trusted": false
   },
   "outputs": [],
   "source": [
    "distance(4, 2, 3.5, 4)  # distance(C, N)"
   ]
  },
  {
   "cell_type": "code",
   "execution_count": null,
   "metadata": {
    "trusted": false
   },
   "outputs": [],
   "source": [
    "distance(2, 3, 3.5, 4)  # distance(D, N)"
   ]
  },
  {
   "cell_type": "code",
   "execution_count": null,
   "metadata": {
    "trusted": false
   },
   "outputs": [],
   "source": [
    "distance(4, 3, 3.5, 4)  # distance(E, N)"
   ]
  },
  {
   "cell_type": "code",
   "execution_count": null,
   "metadata": {
    "trusted": false
   },
   "outputs": [],
   "source": [
    "distance(3, 5, 3.5, 4)  # distance(F, N)"
   ]
  },
  {
   "cell_type": "code",
   "execution_count": null,
   "metadata": {
    "trusted": false
   },
   "outputs": [],
   "source": [
    "distance(2, 5, 3.5, 4)  # distance(G, N)"
   ]
  },
  {
   "cell_type": "code",
   "execution_count": null,
   "metadata": {
    "trusted": false
   },
   "outputs": [],
   "source": [
    "distance(6, 4, 3.5, 4)  # distance(H, N)"
   ]
  },
  {
   "cell_type": "code",
   "execution_count": null,
   "metadata": {
    "trusted": false
   },
   "outputs": [],
   "source": [
    "distance(5, 5, 3.5, 4)  # distance(I, N)"
   ]
  },
  {
   "cell_type": "markdown",
   "metadata": {},
   "source": [
    "N'hésitez donc pas à utiliser cette fonction pour vous aider à répondre à la seconde partie de l'énigme !"
   ]
  },
  {
   "cell_type": "code",
   "execution_count": null,
   "metadata": {
    "trusted": false
   },
   "outputs": [],
   "source": [
    "# à vous de jouer !"
   ]
  },
  {
   "cell_type": "code",
   "execution_count": null,
   "metadata": {
    "trusted": false
   },
   "outputs": [],
   "source": []
  },
  {
   "cell_type": "code",
   "execution_count": null,
   "metadata": {
    "trusted": false
   },
   "outputs": [],
   "source": []
  },
  {
   "cell_type": "code",
   "execution_count": null,
   "metadata": {
    "trusted": false
   },
   "outputs": [],
   "source": []
  },
  {
   "cell_type": "markdown",
   "metadata": {},
   "source": [
    "> Ce qui suit n'est pas nécessaire pour trouver la réponse à l'énigme, néanmoins on y propose un script permettant d'afficher toutes les distances d'un coup. Les plus à l'aise peuvent avantageusement modifier ce code pour trouver la solution de l'énigme."
   ]
  },
  {
   "cell_type": "code",
   "execution_count": null,
   "metadata": {
    "trusted": false
   },
   "outputs": [],
   "source": [
    "from math import sqrt\n",
    "\n",
    "# définition de tous les points connus (sous forme d'un dictionnaire)\n",
    "\n",
    "A = {'abs': 1, 'ord': 1, 'classe': 'Bleue'}\n",
    "B = {'abs': 2, 'ord': 2, 'classe': 'Bleue'}\n",
    "C = {'abs': 4, 'ord': 2, 'classe': 'Bleue'}\n",
    "D = {'abs': 2, 'ord': 3, 'classe': 'Rouge'}\n",
    "E = {'abs': 4, 'ord': 3, 'classe': 'Bleue'}\n",
    "F = {'abs': 3, 'ord': 5, 'classe': 'Rouge'}\n",
    "G = {'abs': 2, 'ord': 5, 'classe': 'Rouge'}\n",
    "H = {'abs': 6, 'ord': 4, 'classe': 'Bleue'}\n",
    "I = {'abs': 5, 'ord': 5, 'classe': 'Rouge'}\n",
    "\n",
    "\n",
    "# version adaptée du calcul de distance entre deux points P1 et P2 définis par des dictionnaires comme ci-dessus\n",
    "def distance(P1, P2):\n",
    "    return sqrt((P1['abs'] - P2['abs'])**2 + (P1['ord'] - P2['ord'])**2)\n",
    "\n",
    "# le point inconnu à classifier\n",
    "nouveau_point = {'abs': 3.5, 'ord': 4, 'classe': 'inconnue'}\n",
    "\n",
    "# la liste de tous les points connus\n",
    "liste_points = [A, B, C, D, E, F, G, H, I]\n",
    "\n",
    "# parcours de tous les points de la liste \n",
    "for point in liste_points:\n",
    "    d = distance(nouveau_point, point)  # pour calculer leur distance avec le point à classifier\n",
    "    print(f\"{d} (classe {point['classe']})\")  # et afficher cette distance (dans l'ordre des points de la liste !)"
   ]
  },
  {
   "cell_type": "markdown",
   "metadata": {},
   "source": [
    "--- \n",
    "\n",
    "Germain Becker, Lycée Emmanuel Mounier, Angers\n",
    "\n",
    "![Licence Creative Commons](https://i.creativecommons.org/l/by-sa/4.0/88x31.png)"
   ]
  }
 ],
 "metadata": {
  "kernelspec": {
   "display_name": "Python 3",
   "language": "python",
   "name": "python3"
  }
 },
 "nbformat": 4,
 "nbformat_minor": 2
}
