{
 "cells": [
  {
   "cell_type": "markdown",
   "metadata": {},
   "source": [
    "# Aide pour calculer une distance avec Python\n",
    "---"
   ]
  },
  {
   "cell_type": "markdown",
   "metadata": {},
   "source": [
    "Pour ne pas avoir à faire tous les calculs à la main, on a défini ci-dessous une fonction `distance` prenant en paramètres les coordonnées `xA`, `yA`, `xB`, `yB` de deux points et renvoyant la distance (euclidienne) entre ces deux points.\n",
    "\n",
    "**Pensez à exécuter la cellule ci-dessous pour pouvoir utiliser cette fonction ensuite !**"
   ]
  },
  {
   "cell_type": "code",
   "execution_count": null,
   "metadata": {
    "trusted": false
   },
   "outputs": [],
   "source": [
    "from math import sqrt  # on importe la fonction sqrt du module math\n",
    "\n",
    "def distance(xA, yA, xB, yB):\n",
    "    return sqrt((xB-xA)**2 + (yB-yA)**2)"
   ]
  },
  {
   "cell_type": "markdown",
   "metadata": {},
   "source": [
    "On peut utiliser cette fonction comme ci-dessous pour connaître la distance entre deux points :"
   ]
  },
  {
   "cell_type": "code",
   "execution_count": null,
   "metadata": {
    "trusted": false
   },
   "outputs": [],
   "source": [
    "# exécutez cette cellule pour utiliser la fonction\n",
    "\n",
    "distance(1, 1, 3.5, 4)"
   ]
  },
  {
   "cell_type": "markdown",
   "metadata": {},
   "source": [
    "Par exemple, on peut retrouver les distances (de l'exemple donné dans l'énigme) entre le point $N(3,5 ; 4)$ et tous les autres points donnés ci-dessous \n",
    "\n",
    "![les points](points.png)\n",
    "\n",
    "en appelant la fonction comme ci-dessous (il faut exécuter les cellules) :"
   ]
  },
  {
   "cell_type": "code",
   "execution_count": null,
   "metadata": {
    "trusted": false
   },
   "outputs": [],
   "source": [
    "distance(1, 1, 3.5, 4)  # distance(A, N)"
   ]
  },
  {
   "cell_type": "code",
   "execution_count": null,
   "metadata": {
    "trusted": false
   },
   "outputs": [],
   "source": [
    "distance(2, 2, 3.5, 4)  # distance(B, N)"
   ]
  },
  {
   "cell_type": "code",
   "execution_count": null,
   "metadata": {
    "trusted": false
   },
   "outputs": [],
   "source": [
    "distance(4, 2, 3.5, 4)  # distance(C, N)"
   ]
  },
  {
   "cell_type": "code",
   "execution_count": null,
   "metadata": {
    "trusted": false
   },
   "outputs": [],
   "source": [
    "distance(2, 3, 3.5, 4)  # distance(D, N)"
   ]
  },
  {
   "cell_type": "code",
   "execution_count": null,
   "metadata": {
    "trusted": false
   },
   "outputs": [],
   "source": [
    "distance(4, 3, 3.5, 4)  # distance(E, N)"
   ]
  },
  {
   "cell_type": "code",
   "execution_count": null,
   "metadata": {
    "trusted": false
   },
   "outputs": [],
   "source": [
    "distance(3, 5, 3.5, 4)  # distance(F, N)"
   ]
  },
  {
   "cell_type": "code",
   "execution_count": null,
   "metadata": {
    "trusted": false
   },
   "outputs": [],
   "source": [
    "distance(2, 5, 3.5, 4)  # distance(G, N)"
   ]
  },
  {
   "cell_type": "code",
   "execution_count": null,
   "metadata": {
    "trusted": false
   },
   "outputs": [],
   "source": [
    "distance(6, 4, 3.5, 4)  # distance(H, N)"
   ]
  },
  {
   "cell_type": "code",
   "execution_count": null,
   "metadata": {
    "trusted": false
   },
   "outputs": [],
   "source": [
    "distance(5, 5, 3.5, 4)  # distance(I, N)"
   ]
  },
  {
   "cell_type": "markdown",
   "metadata": {},
   "source": [
    "N'hésitez donc pas à utiliser cette fonction pour vous aider à répondre à la seconde partie de l'énigme !"
   ]
  },
  {
   "cell_type": "code",
   "execution_count": null,
   "metadata": {
    "trusted": false
   },
   "outputs": [],
   "source": [
    "# à vous de jouer !"
   ]
  },
  {
   "cell_type": "code",
   "execution_count": null,
   "metadata": {
    "trusted": false
   },
   "outputs": [],
   "source": []
  },
  {
   "cell_type": "code",
   "execution_count": null,
   "metadata": {
    "trusted": false
   },
   "outputs": [],
   "source": []
  },
  {
   "cell_type": "code",
   "execution_count": null,
   "metadata": {
    "trusted": false
   },
   "outputs": [],
   "source": []
  },
  {
   "cell_type": "markdown",
   "metadata": {},
   "source": [
    "> Ce qui suit n'est pas nécessaire pour trouver la réponse à l'énigme, néanmoins on y propose un script permettant d'afficher toutes les distances d'un coup. Les plus à l'aise peuvent avantageusement modifier ce code pour trouver la solution de l'énigme."
   ]
  },
  {
   "cell_type": "code",
   "execution_count": null,
   "metadata": {
    "trusted": false
   },
   "outputs": [],
   "source": [
    "from math import sqrt\n",
    "\n",
    "# définition de tous les points connus (sous forme d'un dictionnaire)\n",
    "\n",
    "A = {'abs': 1, 'ord': 1, 'classe': 'Bleue'}\n",
    "B = {'abs': 2, 'ord': 2, 'classe': 'Bleue'}\n",
    "C = {'abs': 4, 'ord': 2, 'classe': 'Bleue'}\n",
    "D = {'abs': 2, 'ord': 3, 'classe': 'Rouge'}\n",
    "E = {'abs': 4, 'ord': 3, 'classe': 'Bleue'}\n",
    "F = {'abs': 3, 'ord': 5, 'classe': 'Rouge'}\n",
    "G = {'abs': 2, 'ord': 5, 'classe': 'Rouge'}\n",
    "H = {'abs': 6, 'ord': 4, 'classe': 'Bleue'}\n",
    "I = {'abs': 5, 'ord': 5, 'classe': 'Rouge'}\n",
    "\n",
    "\n",
    "# version adaptée du calcul de distance entre deux points P1 et P2 définis par des dictionnaires comme ci-dessus\n",
    "def distance(P1, P2):\n",
    "    return sqrt((P1['abs'] - P2['abs'])**2 + (P1['ord'] - P2['ord'])**2)\n",
    "\n",
    "# le point inconnu à classifier\n",
    "nouveau_point = {'abs': 3.5, 'ord': 4, 'classe': 'inconnue'}\n",
    "\n",
    "# la liste de tous les points connus\n",
    "liste_points = [A, B, C, D, E, F, G, H, I]\n",
    "\n",
    "# parcours de tous les points de la liste \n",
    "for point in liste_points:\n",
    "    d = distance(nouveau_point, point)  # pour calculer leur distance avec le point à classifier\n",
    "    print(f\"{d} (classe {point['classe']})\")  # et afficher cette distance (dans l'ordre des points de la liste !)"
   ]
  },
  {
   "cell_type": "markdown",
   "metadata": {},
   "source": [
    "--- \n",
    "\n",
    "Germain Becker, Lycée Emmanuel Mounier, Angers\n",
    "\n",
    "![Licence Creative Commons](https://i.creativecommons.org/l/by-sa/4.0/88x31.png)"
   ]
  }
 ],
 "metadata": {
  "kernelspec": {
   "display_name": "Python 3",
   "language": "python",
   "name": "python3"
  }
 },
 "nbformat": 4,
 "nbformat_minor": 2
}
